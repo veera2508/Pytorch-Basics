{
 "metadata": {
  "language_info": {
   "codemirror_mode": {
    "name": "ipython",
    "version": 3
   },
   "file_extension": ".py",
   "mimetype": "text/x-python",
   "name": "python",
   "nbconvert_exporter": "python",
   "pygments_lexer": "ipython3",
   "version": "3.8.3-final"
  },
  "orig_nbformat": 2,
  "kernelspec": {
   "name": "python3",
   "display_name": "Python 3",
   "language": "python"
  }
 },
 "nbformat": 4,
 "nbformat_minor": 2,
 "cells": [
  {
   "cell_type": "code",
   "execution_count": 16,
   "metadata": {},
   "outputs": [],
   "source": [
    "import numpy as np\n",
    "import pandas as pd\n",
    "import torch\n",
    "import torch.nn as nn\n",
    "import torch.nn.functional as F\n",
    "from torch.utils.data import DataLoader\n",
    "from sklearn.preprocessing import StandardScaler\n",
    "from torch.utils.data import Dataset"
   ]
  },
  {
   "cell_type": "code",
   "execution_count": 23,
   "metadata": {},
   "outputs": [],
   "source": [
    "class FeatureDataset(Dataset):\n",
    "    def __init__(self, filename):\n",
    "        df = pd.read_csv(filename)\n",
    "        x = df.iloc[:, 1:8].values\n",
    "        y = df.iloc[:, 8].values\n",
    "        sc = StandardScaler()\n",
    "        x = sc.fit_transform(x)\n",
    "        self.X_train = torch.tensor(x, dtype = torch.float32)\n",
    "        self.Y_train = torch.tensor(y, dtype = torch.float32)\n",
    "    \n",
    "    def __len__(self):\n",
    "        return len(self.Y_train)\n",
    "    \n",
    "    def __getitem__(self, idx):\n",
    "        return self.X_train[idx], self.Y_train[idx]\n"
   ]
  },
  {
   "cell_type": "code",
   "execution_count": 24,
   "metadata": {},
   "outputs": [],
   "source": [
    "dset = FeatureDataset('Data.csv')\n",
    "train_dl = DataLoader(dset, batch_size = 50, shuffle = True)\n",
    "model = nn.Linear(7, 1)\n",
    "loss_fn = F.mse_loss\n",
    "opt = torch.optim.SGD(model.parameters(), lr = 1e-5)"
   ]
  },
  {
   "cell_type": "code",
   "execution_count": 31,
   "metadata": {},
   "outputs": [],
   "source": [
    "def fit(num_epochs, model, loss_fn, opt, train_dl):\n",
    "    for epoch in range(num_epochs):\n",
    "        for xb, yb in train_dl:\n",
    "            pred = model(xb)\n",
    "            loss = loss_fn(pred, yb)\n",
    "            loss.backward()\n",
    "            opt.step()\n",
    "            opt.zero_grad()\n",
    "        if (epoch) % 10 == 0:\n",
    "            print('Epoch [{}/{}], Loss: {:.4f}'.format(epoch, num_epochs, loss.item()))"
   ]
  },
  {
   "cell_type": "code",
   "execution_count": 32,
   "metadata": {},
   "outputs": [
    {
     "output_type": "stream",
     "name": "stdout",
     "text": [
      "Epoch [0/500], Loss: 0.3330\n",
      "Epoch [10/500], Loss: 0.2542\n",
      "Epoch [20/500], Loss: 0.2324\n",
      "Epoch [30/500], Loss: 0.2787\n",
      "Epoch [40/500], Loss: 0.2735\n",
      "Epoch [50/500], Loss: 0.2710\n",
      "Epoch [60/500], Loss: 0.3241\n",
      "Epoch [70/500], Loss: 0.3004\n",
      "Epoch [80/500], Loss: 0.2457\n",
      "Epoch [90/500], Loss: 0.2854\n",
      "Epoch [100/500], Loss: 0.2316\n",
      "Epoch [110/500], Loss: 0.2817\n",
      "Epoch [120/500], Loss: 0.3350\n",
      "Epoch [130/500], Loss: 0.2175\n",
      "Epoch [140/500], Loss: 0.2021\n",
      "Epoch [150/500], Loss: 0.2381\n",
      "Epoch [160/500], Loss: 0.2662\n",
      "Epoch [170/500], Loss: 0.2066\n",
      "Epoch [180/500], Loss: 0.3306\n",
      "Epoch [190/500], Loss: 0.2869\n",
      "Epoch [200/500], Loss: 0.2416\n",
      "Epoch [210/500], Loss: 0.2962\n",
      "Epoch [220/500], Loss: 0.2101\n",
      "Epoch [230/500], Loss: 0.3103\n",
      "Epoch [240/500], Loss: 0.2683\n",
      "Epoch [250/500], Loss: 0.2455\n",
      "Epoch [260/500], Loss: 0.2477\n",
      "Epoch [270/500], Loss: 0.3039\n",
      "Epoch [280/500], Loss: 0.2614\n",
      "Epoch [290/500], Loss: 0.2782\n",
      "Epoch [300/500], Loss: 0.2071\n",
      "Epoch [310/500], Loss: 0.2388\n",
      "Epoch [320/500], Loss: 0.2016\n",
      "Epoch [330/500], Loss: 0.2671\n",
      "Epoch [340/500], Loss: 0.2209\n",
      "Epoch [350/500], Loss: 0.2730\n",
      "Epoch [360/500], Loss: 0.2236\n",
      "Epoch [370/500], Loss: 0.2476\n",
      "Epoch [380/500], Loss: 0.2267\n",
      "Epoch [390/500], Loss: 0.1925\n",
      "Epoch [400/500], Loss: 0.1929\n",
      "Epoch [410/500], Loss: 0.2325\n",
      "Epoch [420/500], Loss: 0.2495\n",
      "Epoch [430/500], Loss: 0.2919\n",
      "Epoch [440/500], Loss: 0.2450\n",
      "Epoch [450/500], Loss: 0.2575\n",
      "Epoch [460/500], Loss: 0.2188\n",
      "Epoch [470/500], Loss: 0.3216\n",
      "Epoch [480/500], Loss: 0.2054\n",
      "Epoch [490/500], Loss: 0.1879\n"
     ]
    }
   ],
   "source": [
    "fit(500, model, loss_fn, opt, train_dl)"
   ]
  },
  {
   "cell_type": "code",
   "execution_count": null,
   "metadata": {},
   "outputs": [],
   "source": []
  }
 ]
}